{
  "nbformat": 4,
  "nbformat_minor": 0,
  "metadata": {
    "colab": {
      "name": "ChatAnalyzer.ipynb",
      "provenance": [],
      "collapsed_sections": []
    },
    "kernelspec": {
      "name": "python3",
      "display_name": "Python 3"
    },
    "language_info": {
      "name": "python"
    }
  },
  "cells": [
    {
      "cell_type": "markdown",
      "source": [
        "# Install necessary packages"
      ],
      "metadata": {
        "id": "Ky-xX1CGd1Xu"
      }
    },
    {
      "cell_type": "code",
      "source": [
        "import nltk"
      ],
      "metadata": {
        "id": "NxYgwZB6hIYD"
      },
      "execution_count": null,
      "outputs": []
    },
    {
      "cell_type": "code",
      "source": [
        "%%capture\n",
        "!pip install emoji\n",
        "nltk.download('stopwords')\n",
        "nltk.download('punkt')\n",
        "!python3 -m spacy download de_core_news_md\n",
        "!pip install textblob-de"
      ],
      "metadata": {
        "id": "LahMdGfhw3sq"
      },
      "execution_count": null,
      "outputs": []
    },
    {
      "cell_type": "markdown",
      "source": [
        "**Note:** When first using the notebook, please restart your runtime after installation and run again!"
      ],
      "metadata": {
        "id": "7GP2dvvPg6pa"
      }
    },
    {
      "cell_type": "markdown",
      "source": [
        "# Import"
      ],
      "metadata": {
        "id": "_c1CGVbwewVH"
      }
    },
    {
      "cell_type": "code",
      "execution_count": null,
      "metadata": {
        "id": "kr44h_FXWg2D"
      },
      "outputs": [],
      "source": [
        "import pandas as pd\n",
        "import numpy as np\n",
        "import re\n",
        "import seaborn as sns\n",
        "import matplotlib.pyplot as plt\n",
        "import emoji"
      ]
    },
    {
      "cell_type": "markdown",
      "source": [
        "# Load Data"
      ],
      "metadata": {
        "id": "LYU2HVM_ex0p"
      }
    },
    {
      "cell_type": "code",
      "source": [
        "filepath = ''"
      ],
      "metadata": {
        "id": "b0uyHbM7Wv-P"
      },
      "execution_count": null,
      "outputs": []
    },
    {
      "cell_type": "code",
      "source": [
        "with open(filepath, encoding=\"utf8\") as f:\n",
        "  raw_chat = f.read()"
      ],
      "metadata": {
        "id": "2Fs4deWixabw"
      },
      "execution_count": null,
      "outputs": []
    },
    {
      "cell_type": "code",
      "source": [
        "# You could also read the file line by line. But multiline messages will be a problem\n",
        "#with open(filepath, encoding=\"utf8\") as f:\n",
        "    #lines = f.read().splitlines()"
      ],
      "metadata": {
        "id": "hc4C_A-B9yYT"
      },
      "execution_count": null,
      "outputs": []
    },
    {
      "cell_type": "markdown",
      "source": [
        "# Extract Features"
      ],
      "metadata": {
        "id": "4uWJ1Avye0QH"
      }
    },
    {
      "cell_type": "code",
      "source": [
        "# Because of multiline messages removing new lines and split aferwards by (dd.mm.yy, hh:mm)\n",
        "raw_chat = raw_chat.replace('\\n', ' ').replace('\\r', ' ')"
      ],
      "metadata": {
        "id": "fsgf_PkaynPh"
      },
      "execution_count": null,
      "outputs": []
    },
    {
      "cell_type": "markdown",
      "source": [
        "## Dates"
      ],
      "metadata": {
        "id": "8N11x3zee8EB"
      }
    },
    {
      "cell_type": "code",
      "source": [
        "#Regex to extract Datetime from mesasge (dd.mm.yy, hh:mm)\n",
        "regexDate = '[0-9]{2}[.][0-9]{2}[.][0-9]{2}[,] [0-9]{2}[:][0-9]{2}'"
      ],
      "metadata": {
        "id": "1aPMtFYT-PUf"
      },
      "execution_count": null,
      "outputs": []
    },
    {
      "cell_type": "code",
      "source": [
        "dates = re.findall(regexDate, raw_chat)"
      ],
      "metadata": {
        "id": "qkWqnFbSxdvg"
      },
      "execution_count": null,
      "outputs": []
    },
    {
      "cell_type": "code",
      "source": [
        "len(dates)"
      ],
      "metadata": {
        "id": "Li869fh54ygW"
      },
      "execution_count": null,
      "outputs": []
    },
    {
      "cell_type": "markdown",
      "source": [
        "## Content of message"
      ],
      "metadata": {
        "id": "onuQ80DBe9g4"
      }
    },
    {
      "cell_type": "code",
      "source": [
        "content_of_message = re.split(regexDate, raw_chat)"
      ],
      "metadata": {
        "id": "0cXgGpjMyH35"
      },
      "execution_count": null,
      "outputs": []
    },
    {
      "cell_type": "code",
      "source": [
        "# First element of text will always be empty because of regex\n",
        "len(content_of_message)"
      ],
      "metadata": {
        "id": "ACLHptOpyH1H"
      },
      "execution_count": null,
      "outputs": []
    },
    {
      "cell_type": "code",
      "source": [
        "content_of_message.pop(0)"
      ],
      "metadata": {
        "id": "w1_6aJwu-8G2"
      },
      "execution_count": null,
      "outputs": []
    },
    {
      "cell_type": "code",
      "source": [
        "#Removing special characters ahead of every message\n",
        "content_of_message = [element[3:] for element in content_of_message]"
      ],
      "metadata": {
        "id": "2d6MW4tzAyAx"
      },
      "execution_count": null,
      "outputs": []
    },
    {
      "cell_type": "markdown",
      "source": [
        "# Create df"
      ],
      "metadata": {
        "id": "1ibPjR6_fB6-"
      }
    },
    {
      "cell_type": "code",
      "source": [
        "df = {'datetime':dates,\n",
        "      'message_unformatted': content_of_message}"
      ],
      "metadata": {
        "id": "dSoJYLuX__Fw"
      },
      "execution_count": null,
      "outputs": []
    },
    {
      "cell_type": "code",
      "source": [
        "df = pd.DataFrame(df)"
      ],
      "metadata": {
        "id": "oWC_s6kd_aaF"
      },
      "execution_count": null,
      "outputs": []
    },
    {
      "cell_type": "code",
      "source": [
        "df.head()"
      ],
      "metadata": {
        "id": "UKmaBAMYAHxp"
      },
      "execution_count": null,
      "outputs": []
    },
    {
      "cell_type": "code",
      "source": [
        "df.shape"
      ],
      "metadata": {
        "id": "-fXJr1VBW9t6"
      },
      "execution_count": null,
      "outputs": []
    },
    {
      "cell_type": "markdown",
      "source": [
        "# Split Date and Time"
      ],
      "metadata": {
        "id": "pY4x0bwsfdJf"
      }
    },
    {
      "cell_type": "code",
      "source": [
        "regexDate = '[0-9]{2}[.][0-9]{2}[.][0-9]{2}'"
      ],
      "metadata": {
        "id": "C9RWYj4Xffmq"
      },
      "execution_count": null,
      "outputs": []
    },
    {
      "cell_type": "code",
      "source": [
        "def extractDate(textObject, regex):\n",
        "  matchObject = re.match(regex, textObject)\n",
        "  return matchObject.group()"
      ],
      "metadata": {
        "id": "HqKZ0q2ifghY"
      },
      "execution_count": null,
      "outputs": []
    },
    {
      "cell_type": "code",
      "source": [
        "df[\"date\"] = df[\"datetime\"].map(lambda x: extractDate(x, regexDate))"
      ],
      "metadata": {
        "id": "Sjybma9DfgeU"
      },
      "execution_count": null,
      "outputs": []
    },
    {
      "cell_type": "code",
      "source": [
        "def extractTime(textObject, regex):\n",
        "  matchObject = re.split(regex, textObject)\n",
        "  return matchObject[1]"
      ],
      "metadata": {
        "id": "fQVkmTpCfgbL"
      },
      "execution_count": null,
      "outputs": []
    },
    {
      "cell_type": "code",
      "source": [
        "df[\"time\"] = df[\"datetime\"].map(lambda x: extractTime(x, f'{regexDate}[,] '))"
      ],
      "metadata": {
        "id": "PmBD3KX2flMx"
      },
      "execution_count": null,
      "outputs": []
    },
    {
      "cell_type": "code",
      "source": [
        "df['hour'] = df[\"time\"].map(lambda x: re.split('[:]', x)[0])"
      ],
      "metadata": {
        "id": "VGqBZkjTflJR"
      },
      "execution_count": null,
      "outputs": []
    },
    {
      "cell_type": "code",
      "source": [
        "df['date'] = pd.to_datetime(df['date'])"
      ],
      "metadata": {
        "id": "LejF-Zs4f-kH"
      },
      "execution_count": null,
      "outputs": []
    },
    {
      "cell_type": "code",
      "source": [
        "df.head()"
      ],
      "metadata": {
        "id": "6jCUP_QyfgX_"
      },
      "execution_count": null,
      "outputs": []
    },
    {
      "cell_type": "markdown",
      "source": [
        "# Extract Name and Message"
      ],
      "metadata": {
        "id": "CmVtZsIRfEUw"
      }
    },
    {
      "cell_type": "code",
      "source": [
        "def splitName_and_text(string_to_split, split_type=None):\n",
        "  #Note: System messages like \"XY leaved the chat\", dont contain a ':', so we can split by it to remove them\n",
        "  splitted = string_to_split.split(':', 1)\n",
        "  try:\n",
        "    content = splitted[1]\n",
        "    if split_type == \"user\":\n",
        "      return splitted[0]\n",
        "    return content\n",
        "  except:\n",
        "    return None"
      ],
      "metadata": {
        "id": "EbNNBjHvChT9"
      },
      "execution_count": null,
      "outputs": []
    },
    {
      "cell_type": "code",
      "source": [
        "df[\"message\"] = df.message_unformatted.map(lambda x: splitName_and_text(x))"
      ],
      "metadata": {
        "id": "RsLh5cdjXPlp"
      },
      "execution_count": null,
      "outputs": []
    },
    {
      "cell_type": "code",
      "source": [
        "df[\"user\"] = df.message_unformatted.map(lambda x: splitName_and_text(x, split_type=\"user\"))"
      ],
      "metadata": {
        "id": "_S4W9-FwD130"
      },
      "execution_count": null,
      "outputs": []
    },
    {
      "cell_type": "code",
      "source": [
        "df.tail()"
      ],
      "metadata": {
        "id": "HB7mdAjiC7vs"
      },
      "execution_count": null,
      "outputs": []
    },
    {
      "cell_type": "code",
      "source": [
        "# Removing system messages and useless columns\n",
        "df.dropna(inplace=True)\n",
        "df.drop(columns=[\"datetime\", \"message_unformatted\"], inplace=True)\n",
        "df = df[~df.message.str.contains(\"<Medien ausgeschlossen>\")]"
      ],
      "metadata": {
        "id": "VeDf1n3iFVcF"
      },
      "execution_count": null,
      "outputs": []
    },
    {
      "cell_type": "markdown",
      "source": [
        "# Message Length"
      ],
      "metadata": {
        "id": "liEYDibWfKzB"
      }
    },
    {
      "cell_type": "code",
      "source": [
        "df[\"length_message\"] = df[\"message\"].map(lambda x: len(x.split()))"
      ],
      "metadata": {
        "id": "5UXrjIGOg0au"
      },
      "execution_count": null,
      "outputs": []
    },
    {
      "cell_type": "code",
      "source": [
        "df.head()"
      ],
      "metadata": {
        "id": "dRQu-2F3g943"
      },
      "execution_count": null,
      "outputs": []
    },
    {
      "cell_type": "code",
      "source": [
        "#len_by_user = df.groupby(\"user\")[\"length_message\"].mean()"
      ],
      "metadata": {
        "id": "nLqCN8CXhCoY"
      },
      "execution_count": null,
      "outputs": []
    },
    {
      "cell_type": "code",
      "source": [
        "plt.rcParams[\"figure.figsize\"] = (15,5)\n",
        "sns.countplot(df.user).set_title('# of Messages by User')"
      ],
      "metadata": {
        "id": "iOD6usPLXhaN"
      },
      "execution_count": null,
      "outputs": []
    },
    {
      "cell_type": "code",
      "source": [
        "sns.barplot(x=\"length_message\", y=\"user\", data=df).set_title('Average words in message by User')"
      ],
      "metadata": {
        "id": "xlLz6At_ZhxW"
      },
      "execution_count": null,
      "outputs": []
    },
    {
      "cell_type": "markdown",
      "source": [
        "# Emojis"
      ],
      "metadata": {
        "id": "rQxjSVe4fOfj"
      }
    },
    {
      "cell_type": "code",
      "source": [
        "def extract_emojis(s):\n",
        "  return ''.join(c for c in s if c in emoji.UNICODE_EMOJI['en'])"
      ],
      "metadata": {
        "id": "t3kwYgacjywG"
      },
      "execution_count": null,
      "outputs": []
    },
    {
      "cell_type": "code",
      "source": [
        "df[\"emoji\"] = df[\"message\"].map(lambda x: extract_emojis(x))"
      ],
      "metadata": {
        "id": "QwP9wEx0X7VV"
      },
      "execution_count": null,
      "outputs": []
    },
    {
      "cell_type": "code",
      "source": [
        "df[\"emojis_used\"] = df[\"emoji\"].map(lambda x: len(x))"
      ],
      "metadata": {
        "id": "52DyHASpk-rw"
      },
      "execution_count": null,
      "outputs": []
    },
    {
      "cell_type": "code",
      "source": [
        "df.groupby(\"user\")[\"emojis_used\"].mean()"
      ],
      "metadata": {
        "id": "ug0U-5ViX7Sh"
      },
      "execution_count": null,
      "outputs": []
    },
    {
      "cell_type": "code",
      "source": [
        "sns.barplot(x=\"emojis_used\", y=\"user\", data=df).set_title('Emojis / message')"
      ],
      "metadata": {
        "id": "a9rBABV_YCOF"
      },
      "execution_count": null,
      "outputs": []
    },
    {
      "cell_type": "markdown",
      "source": [
        "# Time Distribution of chats"
      ],
      "metadata": {
        "id": "ZML8Cc9sgEMo"
      }
    },
    {
      "cell_type": "code",
      "source": [
        "no_messages_by_date = df.groupby(\"date\").size()"
      ],
      "metadata": {
        "id": "xvtKX23LqFSQ"
      },
      "execution_count": null,
      "outputs": []
    },
    {
      "cell_type": "code",
      "source": [
        "plt.rcParams[\"figure.figsize\"] = (30,10)\n",
        "no_messages_by_date.plot()\n",
        "plt.title(\"Number of Messages by Day\")"
      ],
      "metadata": {
        "id": "PFSVQia2rq7U"
      },
      "execution_count": null,
      "outputs": []
    },
    {
      "cell_type": "code",
      "source": [
        "no_messages_by_hour = df.groupby(\"hour\").size()"
      ],
      "metadata": {
        "id": "f-jMBzQtsBoy"
      },
      "execution_count": null,
      "outputs": []
    },
    {
      "cell_type": "code",
      "source": [
        "plt.rcParams[\"figure.figsize\"] = (20,5)\n",
        "no_messages_by_hour.plot()\n",
        "plt.title(\"Number of Messages by Hour\")"
      ],
      "metadata": {
        "id": "KHEzCf08tyQs"
      },
      "execution_count": null,
      "outputs": []
    },
    {
      "cell_type": "code",
      "source": [
        " df.groupby(\"date\").size().sort_values()"
      ],
      "metadata": {
        "id": "TP5WRq5Nt2LK"
      },
      "execution_count": null,
      "outputs": []
    },
    {
      "cell_type": "markdown",
      "source": [
        "# Sentiment Analysis"
      ],
      "metadata": {
        "id": "R4EBmdEVgXIP"
      }
    },
    {
      "cell_type": "code",
      "source": [
        "from nltk.corpus import stopwords\n",
        "import spacy\n",
        "import de_core_news_md"
      ],
      "metadata": {
        "id": "wtbhEaxu2E4j"
      },
      "execution_count": null,
      "outputs": []
    },
    {
      "cell_type": "code",
      "source": [
        "nlp = de_core_news_md.load()"
      ],
      "metadata": {
        "id": "dEohOVi4K06r"
      },
      "execution_count": null,
      "outputs": []
    },
    {
      "cell_type": "markdown",
      "source": [
        "## Preprocess Text"
      ],
      "metadata": {
        "id": "yrcH3r_6gnGQ"
      }
    },
    {
      "cell_type": "code",
      "source": [
        "# Please change for chat language!\n",
        "german_stop_words = stopwords.words('german')"
      ],
      "metadata": {
        "id": "VLW3ebdzHvYl"
      },
      "execution_count": null,
      "outputs": []
    },
    {
      "cell_type": "code",
      "source": [
        "def cleanse_text(text: str):\n",
        "  doc = nlp(text)\n",
        "  result = ' '.join([x.lemma_ for x in doc])\n",
        "  result = result.lower()\n",
        "  text_tokens = result.split()\n",
        "  tokens_wo_stopwords = [token for token in text_tokens if not token in german_stop_words] \n",
        "  tokens_wo_special = [re.sub('[^a-zA-ZäöüÄÖÜß]+', '', _) for _ in tokens_wo_stopwords]\n",
        "  return tokens_wo_special"
      ],
      "metadata": {
        "id": "j2kleKW9H7iR"
      },
      "execution_count": null,
      "outputs": []
    },
    {
      "cell_type": "code",
      "source": [
        "#Note: This will take some minutes (depending on chat size)\n",
        "df[\"cleansed\"] = df.message.map(lambda x: cleanse_text(x))"
      ],
      "metadata": {
        "id": "HyI2inwSIGII"
      },
      "execution_count": null,
      "outputs": []
    },
    {
      "cell_type": "code",
      "source": [
        "df.tail()"
      ],
      "metadata": {
        "id": "UZZLSEBtJGo8"
      },
      "execution_count": null,
      "outputs": []
    },
    {
      "cell_type": "markdown",
      "source": [
        "## Word frequency"
      ],
      "metadata": {
        "id": "RGlmMSKLgsNc"
      }
    },
    {
      "cell_type": "code",
      "source": [
        "from collections import Counter"
      ],
      "metadata": {
        "id": "E84krk0aNgZz"
      },
      "execution_count": null,
      "outputs": []
    },
    {
      "cell_type": "code",
      "source": [
        "common_words = Counter([word for cleansed_list in df['cleansed'] for word in cleansed_list])\n",
        "df_most_common = pd.DataFrame(common_words.most_common(200))\n",
        "df_most_common.columns = ['Word','Frequency']"
      ],
      "metadata": {
        "id": "m-iMG1sqNPyS"
      },
      "execution_count": null,
      "outputs": []
    },
    {
      "cell_type": "code",
      "source": [
        "df_most_common.head(10)"
      ],
      "metadata": {
        "id": "GZWgBigDNPvp"
      },
      "execution_count": null,
      "outputs": []
    },
    {
      "cell_type": "markdown",
      "source": [
        "### Sentiment calculation"
      ],
      "metadata": {
        "id": "M2a20bDqgyhY"
      }
    },
    {
      "cell_type": "code",
      "source": [
        "#from textblob import TextBlob (For english text)\n",
        "from textblob_de import TextBlobDE"
      ],
      "metadata": {
        "id": "PxsfuLoVJrd3"
      },
      "execution_count": null,
      "outputs": []
    },
    {
      "cell_type": "code",
      "source": [
        "def sentiment_analysis(message): \n",
        "    processed_message = TextBlobDE(message) \n",
        "    return processed_message.sentiment.polarity"
      ],
      "metadata": {
        "id": "ti2mh0G4J_9f"
      },
      "execution_count": null,
      "outputs": []
    },
    {
      "cell_type": "code",
      "source": [
        "df[\"sentiment_score\"] = df[\"cleansed\"].apply(lambda x: sentiment_analysis(str(x)))"
      ],
      "metadata": {
        "id": "5a6OT6gyPVw2"
      },
      "execution_count": null,
      "outputs": []
    },
    {
      "cell_type": "code",
      "source": [
        "df.loc[df.sentiment_score > 0, 'sentiment'] = \"positive\"\n",
        "df.loc[df.sentiment_score == 0, 'sentiment'] = \"neutral\"\n",
        "df.loc[df.sentiment_score < 0, 'sentiment'] = \"negative\""
      ],
      "metadata": {
        "id": "KJbRh8B2Wf8V"
      },
      "execution_count": null,
      "outputs": []
    },
    {
      "cell_type": "code",
      "source": [
        "df.head()"
      ],
      "metadata": {
        "id": "tXvz8y4NWbRN"
      },
      "execution_count": null,
      "outputs": []
    },
    {
      "cell_type": "code",
      "source": [
        "df.groupby(['user', 'sentiment']).size()"
      ],
      "metadata": {
        "id": "LDv2oWIOP4xj"
      },
      "execution_count": null,
      "outputs": []
    },
    {
      "cell_type": "code",
      "source": [
        "user_to_extract = '' # ENTER USERNAME\n",
        "sentiment_type = '' # CHOOSE SENTIMENT"
      ],
      "metadata": {
        "id": "JNLKF3r2SISr"
      },
      "execution_count": null,
      "outputs": []
    },
    {
      "cell_type": "code",
      "source": [
        "user_negative = df[(df[\"user\"] == user_to_extract) & (df[\"sentiment\"] == sentiment_type)]"
      ],
      "metadata": {
        "id": "re2smQFSP_LT"
      },
      "execution_count": null,
      "outputs": []
    },
    {
      "cell_type": "code",
      "source": [
        "for row in user_negative.head(10).itertuples():\n",
        "  print(row.message)\n",
        "  print()\n",
        "  print(\"-----------\")"
      ],
      "metadata": {
        "id": "baIpt8D9RB63"
      },
      "execution_count": null,
      "outputs": []
    },
    {
      "cell_type": "code",
      "source": [
        "sns.countplot(df.sentiment, hue=df.user).set_title('Sentiment by User')"
      ],
      "metadata": {
        "id": "PRqrdM_mZTwr"
      },
      "execution_count": null,
      "outputs": []
    },
    {
      "cell_type": "code",
      "source": [
        "only_negative = df[df[\"sentiment\"] == 'negative']"
      ],
      "metadata": {
        "id": "wcZ_wDgRZDvC"
      },
      "execution_count": null,
      "outputs": []
    },
    {
      "cell_type": "code",
      "source": [
        "sns.countplot(only_negative.sentiment, hue=only_negative.user).set_title('Negative Sentiment by User')"
      ],
      "metadata": {
        "id": "VgCcfvyHRMMl"
      },
      "execution_count": null,
      "outputs": []
    },
    {
      "cell_type": "code",
      "source": [
        "df.sort_values(by=['sentiment_score']).head(10)"
      ],
      "metadata": {
        "id": "DEP72QyOY8_I"
      },
      "execution_count": null,
      "outputs": []
    },
    {
      "cell_type": "code",
      "source": [
        ""
      ],
      "metadata": {
        "id": "KUr2XUBbanq4"
      },
      "execution_count": null,
      "outputs": []
    }
  ]
}